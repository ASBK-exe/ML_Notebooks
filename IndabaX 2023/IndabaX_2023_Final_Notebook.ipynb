{
  "metadata": {
    "kernelspec": {
      "language": "python",
      "display_name": "Python 3",
      "name": "python3"
    },
    "language_info": {
      "name": "python",
      "version": "3.10.10",
      "mimetype": "text/x-python",
      "codemirror_mode": {
        "name": "ipython",
        "version": 3
      },
      "pygments_lexer": "ipython3",
      "nbconvert_exporter": "python",
      "file_extension": ".py"
    },
    "colab": {
      "provenance": []
    }
  },
  "nbformat_minor": 0,
  "nbformat": 4,
  "cells": [
    {
      "cell_type": "markdown",
      "source": [
        "**Competition link:**\n",
        "> [https://zindi.africa/competitions/indabax-tunisia-2023](https://zindi.africa/competitions/indabax-tunisia-2023)\n",
        "\n",
        "**Describtion:**\n",
        "> This competition aims to develop a model that predicts protein stability when a single amino acid mutation occurs. Participants contribute to understanding mutation-related diseases and the impact of stability loss on protein function. The model analyzes wild-type and mutant protein sequences, focusing on predicting folding stability differences caused by point mutations.\n",
        "\n",
        "\n",
        "**Summary:**\n",
        "> I used the the difference of the Embeddings' values to train an xgboost model and predict the ddg (Delta Delta G is a metric for predicting how a single point mutation wil affect protein stability)\n",
        "then spent time fine-tuning the model and experimenting with different parameters to achieve the best result."
      ],
      "metadata": {
        "id": "qAasGZlffUTj"
      }
    },
    {
      "cell_type": "code",
      "source": [
        "# This Python 3 environment comes with many helpful analytics libraries installed\n",
        "# It is defined by the kaggle/python Docker image: https://github.com/kaggle/docker-python\n",
        "# For example, here's several helpful packages to load\n",
        "\n",
        "import numpy as np # linear algebra\n",
        "import pandas as pd # data processing, CSV file I/O (e.g. pd.read_csv)\n",
        "\n",
        "# Input data files are available in the read-only \"../input/\" directory\n",
        "# For example, running this (by clicking run or pressing Shift+Enter) will list all files under the input directory\n",
        "\n",
        "import os\n",
        "for dirname, _, filenames in os.walk('/kaggle/input'):\n",
        "    for filename in filenames:\n",
        "        print(os.path.join(dirname, filename))\n",
        "\n",
        "# You can write up to 20GB to the current directory (/kaggle/working/) that gets preserved as output when you create a version using \"Save & Run All\"\n",
        "# You can also write temporary files to /kaggle/temp/, but they won't be saved outside of the current session"
      ],
      "metadata": {
        "_uuid": "8f2839f25d086af736a60e9eeb907d3b93b6e0e5",
        "_cell_guid": "b1076dfc-b9ad-4769-8c92-a6c4dae69d19",
        "execution": {
          "iopub.status.busy": "2023-05-14T04:15:17.245952Z",
          "iopub.execute_input": "2023-05-14T04:15:17.246970Z",
          "iopub.status.idle": "2023-05-14T04:15:17.254251Z",
          "shell.execute_reply.started": "2023-05-14T04:15:17.246923Z",
          "shell.execute_reply": "2023-05-14T04:15:17.253069Z"
        },
        "trusted": true,
        "id": "puCE1fdYB-ri"
      },
      "execution_count": null,
      "outputs": []
    },
    {
      "cell_type": "code",
      "source": [
        "#@title Download data from GCP bucket\n",
        "import sys\n",
        "\n",
        "if 'google.colab' in sys.modules:\n",
        "  !gsutil -m cp -r gs://indaba-data .\n",
        "else:\n",
        "  !mkdir -p indaba-data/train\n",
        "  !wget -P indaba-data/train https://storage.googleapis.com/indaba-data/train/train.csv --continue\n",
        "  !wget -P indaba-data/train https://storage.googleapis.com/indaba-data/train/train_mut.pt --continue\n",
        "  !wget -P indaba-data/train https://storage.googleapis.com/indaba-data/train/train_wt.pt --continue\n",
        "\n",
        "  !mkdir -p indaba-data/test\n",
        "  !wget -P indaba-data/test https://storage.googleapis.com/indaba-data/test/test.csv --continue\n",
        "  !wget -P indaba-data/test https://storage.googleapis.com/indaba-data/test/test_mut.pt --continue\n",
        "  !wget -P indaba-data/test https://storage.googleapis.com/indaba-data/test/test_wt.pt --continue"
      ],
      "metadata": {
        "execution": {
          "iopub.status.busy": "2023-05-14T08:37:24.733157Z",
          "iopub.execute_input": "2023-05-14T08:37:24.733795Z",
          "iopub.status.idle": "2023-05-14T08:37:50.163475Z",
          "shell.execute_reply.started": "2023-05-14T08:37:24.733746Z",
          "shell.execute_reply": "2023-05-14T08:37:50.162310Z"
        },
        "trusted": true,
        "id": "9gXSVeP6B-rm",
        "outputId": "3d710152-1f83-4f85-a06e-e8c9c163bacf",
        "cellView": "form"
      },
      "execution_count": null,
      "outputs": [
        {
          "name": "stdout",
          "text": "--2023-05-14 08:37:26--  https://storage.googleapis.com/indaba-data/train/train.csv\nResolving storage.googleapis.com (storage.googleapis.com)... 108.177.111.128, 142.250.1.128, 142.250.103.128, ...\nConnecting to storage.googleapis.com (storage.googleapis.com)|108.177.111.128|:443... connected.\nHTTP request sent, awaiting response... 200 OK\nLength: 53721771 (51M) [text/csv]\nSaving to: ‘indaba-data/train/train.csv’\n\ntrain.csv           100%[===================>]  51.23M   190MB/s    in 0.3s    \n\n2023-05-14 08:37:27 (190 MB/s) - ‘indaba-data/train/train.csv’ saved [53721771/53721771]\n\n--2023-05-14 08:37:28--  https://storage.googleapis.com/indaba-data/train/train_mut.pt\nResolving storage.googleapis.com (storage.googleapis.com)... 142.250.125.128, 142.250.136.128, 142.250.148.128, ...\nConnecting to storage.googleapis.com (storage.googleapis.com)|142.250.125.128|:443... connected.\nHTTP request sent, awaiting response... 200 OK\nLength: 1739664107 (1.6G) [application/octet-stream]\nSaving to: ‘indaba-data/train/train_mut.pt’\n\ntrain_mut.pt        100%[===================>]   1.62G   212MB/s    in 7.9s    \n\n2023-05-14 08:37:36 (209 MB/s) - ‘indaba-data/train/train_mut.pt’ saved [1739664107/1739664107]\n\n--2023-05-14 08:37:37--  https://storage.googleapis.com/indaba-data/train/train_wt.pt\nResolving storage.googleapis.com (storage.googleapis.com)... 142.250.125.128, 142.250.136.128, 142.250.148.128, ...\nConnecting to storage.googleapis.com (storage.googleapis.com)|142.250.125.128|:443... connected.\nHTTP request sent, awaiting response... 200 OK\nLength: 1739664107 (1.6G) [application/octet-stream]\nSaving to: ‘indaba-data/train/train_wt.pt’\n\ntrain_wt.pt         100%[===================>]   1.62G   207MB/s    in 7.8s    \n\n2023-05-14 08:37:45 (213 MB/s) - ‘indaba-data/train/train_wt.pt’ saved [1739664107/1739664107]\n\n--2023-05-14 08:37:47--  https://storage.googleapis.com/indaba-data/test/test.csv\nResolving storage.googleapis.com (storage.googleapis.com)... 142.250.1.128, 142.250.103.128, 142.250.159.128, ...\nConnecting to storage.googleapis.com (storage.googleapis.com)|142.250.1.128|:443... connected.\nHTTP request sent, awaiting response... 200 OK\nLength: 296950 (290K) [text/csv]\nSaving to: ‘indaba-data/test/test.csv’\n\ntest.csv            100%[===================>] 289.99K  --.-KB/s    in 0.004s  \n\n2023-05-14 08:37:47 (63.0 MB/s) - ‘indaba-data/test/test.csv’ saved [296950/296950]\n\n--2023-05-14 08:37:48--  https://storage.googleapis.com/indaba-data/test/test_mut.pt\nResolving storage.googleapis.com (storage.googleapis.com)... 142.250.1.128, 142.250.103.128, 142.250.159.128, ...\nConnecting to storage.googleapis.com (storage.googleapis.com)|142.250.1.128|:443... connected.\nHTTP request sent, awaiting response... 200 OK\nLength: 9764587 (9.3M) [application/octet-stream]\nSaving to: ‘indaba-data/test/test_mut.pt’\n\ntest_mut.pt         100%[===================>]   9.31M  --.-KB/s    in 0.05s   \n\n2023-05-14 08:37:48 (172 MB/s) - ‘indaba-data/test/test_mut.pt’ saved [9764587/9764587]\n\n--2023-05-14 08:37:49--  https://storage.googleapis.com/indaba-data/test/test_wt.pt\nResolving storage.googleapis.com (storage.googleapis.com)... 142.250.1.128, 142.250.103.128, 142.250.159.128, ...\nConnecting to storage.googleapis.com (storage.googleapis.com)|142.250.1.128|:443... connected.\nHTTP request sent, awaiting response... 200 OK\nLength: 9764587 (9.3M) [application/octet-stream]\nSaving to: ‘indaba-data/test/test_wt.pt’\n\ntest_wt.pt          100%[===================>]   9.31M  --.-KB/s    in 0.06s   \n\n2023-05-14 08:37:50 (157 MB/s) - ‘indaba-data/test/test_wt.pt’ saved [9764587/9764587]\n\n",
          "output_type": "stream"
        }
      ]
    },
    {
      "cell_type": "markdown",
      "source": [
        "Importing The Necessary Dependencies"
      ],
      "metadata": {
        "id": "vpVPd0NufBhd"
      }
    },
    {
      "cell_type": "code",
      "source": [
        "import pandas as pd\n",
        "import torch\n",
        "import numpy as np\n",
        "%cd indaba-data"
      ],
      "metadata": {
        "execution": {
          "iopub.status.busy": "2023-05-14T08:37:50.166053Z",
          "iopub.execute_input": "2023-05-14T08:37:50.166456Z",
          "iopub.status.idle": "2023-05-14T08:37:54.325559Z",
          "shell.execute_reply.started": "2023-05-14T08:37:50.166413Z",
          "shell.execute_reply": "2023-05-14T08:37:54.324590Z"
        },
        "trusted": true,
        "id": "bM8HAW5CB-rn",
        "outputId": "3fca0498-91e3-4c9f-c0c1-a21fa08ef3b4"
      },
      "execution_count": null,
      "outputs": [
        {
          "name": "stdout",
          "text": "/kaggle/working/indaba-data\n",
          "output_type": "stream"
        }
      ]
    },
    {
      "cell_type": "markdown",
      "source": [
        "Converting torch tensors to numpy arrays"
      ],
      "metadata": {
        "id": "VYZJZxf2VXnv"
      }
    },
    {
      "cell_type": "code",
      "source": [
        "# Load Embedding tensors & Traing csv\n",
        "# Embeddings were calculated using the ESM 650M pretrained model\n",
        "# Tensor shape of embedded data:  [data_len,1280]\n",
        "# There are no sequences in the Embedding tensors as we've performed an average of it (torch.mean(embed, dim=1))\n",
        "# More details in https://huggingface.co/facebook/esm2_t33_650M_UR50D\n",
        "\n",
        "wt_emb = torch.load(\"train/train_wt.pt\").detach().cpu().numpy()\n",
        "mut_emb = torch.load(\"train/train_mut.pt\").detach().cpu().numpy()\n",
        "\n",
        "wt_emb_t = torch.load(\"test/test_wt.pt\").detach().cpu().numpy()\n",
        "mut_emb_t = torch.load(\"test/test_mut.pt\").detach().cpu().numpy()\n",
        "\n",
        "df = pd.read_csv(\"train/train.csv\")\n",
        "df_t = pd.read_csv(\"test/test.csv\")"
      ],
      "metadata": {
        "execution": {
          "iopub.status.busy": "2023-05-14T08:37:54.326911Z",
          "iopub.execute_input": "2023-05-14T08:37:54.327721Z",
          "iopub.status.idle": "2023-05-14T08:37:58.036290Z",
          "shell.execute_reply.started": "2023-05-14T08:37:54.327686Z",
          "shell.execute_reply": "2023-05-14T08:37:58.035335Z"
        },
        "trusted": true,
        "id": "ELM0OedGB-rn"
      },
      "execution_count": null,
      "outputs": []
    },
    {
      "cell_type": "code",
      "source": [
        "XXX = wt_emb - mut_emb\n",
        "XXX_t = wt_emb_t - mut_emb_t"
      ],
      "metadata": {
        "execution": {
          "iopub.status.busy": "2023-05-14T08:37:58.039049Z",
          "iopub.execute_input": "2023-05-14T08:37:58.039701Z",
          "iopub.status.idle": "2023-05-14T08:37:58.936610Z",
          "shell.execute_reply.started": "2023-05-14T08:37:58.039661Z",
          "shell.execute_reply": "2023-05-14T08:37:58.935280Z"
        },
        "trusted": true,
        "id": "h6Wf3MR7B-ro"
      },
      "execution_count": null,
      "outputs": []
    },
    {
      "cell_type": "code",
      "source": [
        "XXX"
      ],
      "metadata": {
        "execution": {
          "iopub.status.busy": "2023-05-14T05:38:33.413444Z",
          "iopub.execute_input": "2023-05-14T05:38:33.413955Z",
          "iopub.status.idle": "2023-05-14T05:38:33.422789Z",
          "shell.execute_reply.started": "2023-05-14T05:38:33.413920Z",
          "shell.execute_reply": "2023-05-14T05:38:33.421848Z"
        },
        "trusted": true,
        "id": "AhNcJhDcB-ro",
        "outputId": "fcd2d50b-0c45-466d-eaac-305bb84a424c"
      },
      "execution_count": null,
      "outputs": [
        {
          "execution_count": 28,
          "output_type": "execute_result",
          "data": {
            "text/plain": "array([[-0.0701555 , -0.00962102,  0.00554383, ...,  0.11682439,\n        -0.12814403, -0.04074726],\n       [-0.10550089, -0.0528065 ,  0.05350137, ..., -0.04076052,\n        -0.068295  ,  0.00588027],\n       [-0.09242268, -0.04318464, -0.07546735, ...,  0.06495333,\n        -0.10553503, -0.00090995],\n       ...,\n       [-0.10059148, -0.02686656,  0.03313243, ...,  0.0278033 ,\n         0.01464283, -0.01031012],\n       [-0.0187971 , -0.02095222, -0.04726124, ...,  0.06330132,\n         0.05002809, -0.08174077],\n       [-0.12369898, -0.10786104, -0.02126551, ...,  0.08931351,\n        -0.02440596, -0.06123579]], dtype=float32)"
          },
          "metadata": {}
        }
      ]
    },
    {
      "cell_type": "code",
      "source": [
        "import xgboost as xg\n",
        "from sklearn.metrics import mean_squared_error as MSE\n",
        "\n",
        "y = df['ddg'].to_numpy()\n",
        "X = XXX\n",
        "\n",
        "xgb_r_4 = xg.XGBRegressor(booster=\"gblinear\",\n",
        "                          objective ='reg:linear',\n",
        "                          learning_rate=0.001,\n",
        "                          n_estimators=70,\n",
        "                          seed = 123)\n",
        "xgb_r_4.fit(X, y)"
      ],
      "metadata": {
        "execution": {
          "iopub.status.busy": "2023-05-14T06:49:09.073978Z",
          "iopub.execute_input": "2023-05-14T06:49:09.074469Z",
          "iopub.status.idle": "2023-05-14T07:31:50.607914Z",
          "shell.execute_reply.started": "2023-05-14T06:49:09.074434Z",
          "shell.execute_reply": "2023-05-14T07:31:50.604422Z"
        },
        "trusted": true,
        "id": "AWvzx3aEB-rp",
        "outputId": "4a210cdc-c077-4cbd-f65b-ff8d681febcc"
      },
      "execution_count": null,
      "outputs": [
        {
          "name": "stdout",
          "text": "[06:49:17] WARNING: ../src/objective/regression_obj.cu:213: reg:linear is now deprecated in favor of reg:squarederror.\n",
          "output_type": "stream"
        },
        {
          "execution_count": 35,
          "output_type": "execute_result",
          "data": {
            "text/plain": "XGBRegressor(base_score=None, booster=None, callbacks=None,\n             colsample_bylevel=None, colsample_bynode=None,\n             colsample_bytree=None, early_stopping_rounds=None,\n             enable_categorical=False, eval_metric=None, feature_types=None,\n             gamma=None, gpu_id=None, grow_policy=None, importance_type=None,\n             interaction_constraints=None, learning_rate=0.001, max_bin=None,\n             max_cat_threshold=None, max_cat_to_onehot=None,\n             max_delta_step=None, max_depth=None, max_leaves=None,\n             min_child_weight=None, missing=nan, monotone_constraints=None,\n             n_estimators=50, n_jobs=None, num_parallel_tree=None,\n             objective='reg:linear', predictor=None, ...)",
            "text/html": "<style>#sk-container-id-5 {color: black;background-color: white;}#sk-container-id-5 pre{padding: 0;}#sk-container-id-5 div.sk-toggleable {background-color: white;}#sk-container-id-5 label.sk-toggleable__label {cursor: pointer;display: block;width: 100%;margin-bottom: 0;padding: 0.3em;box-sizing: border-box;text-align: center;}#sk-container-id-5 label.sk-toggleable__label-arrow:before {content: \"▸\";float: left;margin-right: 0.25em;color: #696969;}#sk-container-id-5 label.sk-toggleable__label-arrow:hover:before {color: black;}#sk-container-id-5 div.sk-estimator:hover label.sk-toggleable__label-arrow:before {color: black;}#sk-container-id-5 div.sk-toggleable__content {max-height: 0;max-width: 0;overflow: hidden;text-align: left;background-color: #f0f8ff;}#sk-container-id-5 div.sk-toggleable__content pre {margin: 0.2em;color: black;border-radius: 0.25em;background-color: #f0f8ff;}#sk-container-id-5 input.sk-toggleable__control:checked~div.sk-toggleable__content {max-height: 200px;max-width: 100%;overflow: auto;}#sk-container-id-5 input.sk-toggleable__control:checked~label.sk-toggleable__label-arrow:before {content: \"▾\";}#sk-container-id-5 div.sk-estimator input.sk-toggleable__control:checked~label.sk-toggleable__label {background-color: #d4ebff;}#sk-container-id-5 div.sk-label input.sk-toggleable__control:checked~label.sk-toggleable__label {background-color: #d4ebff;}#sk-container-id-5 input.sk-hidden--visually {border: 0;clip: rect(1px 1px 1px 1px);clip: rect(1px, 1px, 1px, 1px);height: 1px;margin: -1px;overflow: hidden;padding: 0;position: absolute;width: 1px;}#sk-container-id-5 div.sk-estimator {font-family: monospace;background-color: #f0f8ff;border: 1px dotted black;border-radius: 0.25em;box-sizing: border-box;margin-bottom: 0.5em;}#sk-container-id-5 div.sk-estimator:hover {background-color: #d4ebff;}#sk-container-id-5 div.sk-parallel-item::after {content: \"\";width: 100%;border-bottom: 1px solid gray;flex-grow: 1;}#sk-container-id-5 div.sk-label:hover label.sk-toggleable__label {background-color: #d4ebff;}#sk-container-id-5 div.sk-serial::before {content: \"\";position: absolute;border-left: 1px solid gray;box-sizing: border-box;top: 0;bottom: 0;left: 50%;z-index: 0;}#sk-container-id-5 div.sk-serial {display: flex;flex-direction: column;align-items: center;background-color: white;padding-right: 0.2em;padding-left: 0.2em;position: relative;}#sk-container-id-5 div.sk-item {position: relative;z-index: 1;}#sk-container-id-5 div.sk-parallel {display: flex;align-items: stretch;justify-content: center;background-color: white;position: relative;}#sk-container-id-5 div.sk-item::before, #sk-container-id-5 div.sk-parallel-item::before {content: \"\";position: absolute;border-left: 1px solid gray;box-sizing: border-box;top: 0;bottom: 0;left: 50%;z-index: -1;}#sk-container-id-5 div.sk-parallel-item {display: flex;flex-direction: column;z-index: 1;position: relative;background-color: white;}#sk-container-id-5 div.sk-parallel-item:first-child::after {align-self: flex-end;width: 50%;}#sk-container-id-5 div.sk-parallel-item:last-child::after {align-self: flex-start;width: 50%;}#sk-container-id-5 div.sk-parallel-item:only-child::after {width: 0;}#sk-container-id-5 div.sk-dashed-wrapped {border: 1px dashed gray;margin: 0 0.4em 0.5em 0.4em;box-sizing: border-box;padding-bottom: 0.4em;background-color: white;}#sk-container-id-5 div.sk-label label {font-family: monospace;font-weight: bold;display: inline-block;line-height: 1.2em;}#sk-container-id-5 div.sk-label-container {text-align: center;}#sk-container-id-5 div.sk-container {/* jupyter's `normalize.less` sets `[hidden] { display: none; }` but bootstrap.min.css set `[hidden] { display: none !important; }` so we also need the `!important` here to be able to override the default hidden behavior on the sphinx rendered scikit-learn.org. See: https://github.com/scikit-learn/scikit-learn/issues/21755 */display: inline-block !important;position: relative;}#sk-container-id-5 div.sk-text-repr-fallback {display: none;}</style><div id=\"sk-container-id-5\" class=\"sk-top-container\"><div class=\"sk-text-repr-fallback\"><pre>XGBRegressor(base_score=None, booster=None, callbacks=None,\n             colsample_bylevel=None, colsample_bynode=None,\n             colsample_bytree=None, early_stopping_rounds=None,\n             enable_categorical=False, eval_metric=None, feature_types=None,\n             gamma=None, gpu_id=None, grow_policy=None, importance_type=None,\n             interaction_constraints=None, learning_rate=0.001, max_bin=None,\n             max_cat_threshold=None, max_cat_to_onehot=None,\n             max_delta_step=None, max_depth=None, max_leaves=None,\n             min_child_weight=None, missing=nan, monotone_constraints=None,\n             n_estimators=50, n_jobs=None, num_parallel_tree=None,\n             objective=&#x27;reg:linear&#x27;, predictor=None, ...)</pre><b>In a Jupyter environment, please rerun this cell to show the HTML representation or trust the notebook. <br />On GitHub, the HTML representation is unable to render, please try loading this page with nbviewer.org.</b></div><div class=\"sk-container\" hidden><div class=\"sk-item\"><div class=\"sk-estimator sk-toggleable\"><input class=\"sk-toggleable__control sk-hidden--visually\" id=\"sk-estimator-id-5\" type=\"checkbox\" checked><label for=\"sk-estimator-id-5\" class=\"sk-toggleable__label sk-toggleable__label-arrow\">XGBRegressor</label><div class=\"sk-toggleable__content\"><pre>XGBRegressor(base_score=None, booster=None, callbacks=None,\n             colsample_bylevel=None, colsample_bynode=None,\n             colsample_bytree=None, early_stopping_rounds=None,\n             enable_categorical=False, eval_metric=None, feature_types=None,\n             gamma=None, gpu_id=None, grow_policy=None, importance_type=None,\n             interaction_constraints=None, learning_rate=0.001, max_bin=None,\n             max_cat_threshold=None, max_cat_to_onehot=None,\n             max_delta_step=None, max_depth=None, max_leaves=None,\n             min_child_weight=None, missing=nan, monotone_constraints=None,\n             n_estimators=50, n_jobs=None, num_parallel_tree=None,\n             objective=&#x27;reg:linear&#x27;, predictor=None, ...)</pre></div></div></div></div></div>"
          },
          "metadata": {}
        }
      ]
    },
    {
      "cell_type": "code",
      "source": [
        "pred = xgb_r_4.predict(XXX_t)"
      ],
      "metadata": {
        "execution": {
          "iopub.status.busy": "2023-05-14T07:32:02.740721Z",
          "iopub.execute_input": "2023-05-14T07:32:02.742079Z",
          "iopub.status.idle": "2023-05-14T07:32:02.785862Z",
          "shell.execute_reply.started": "2023-05-14T07:32:02.742027Z",
          "shell.execute_reply": "2023-05-14T07:32:02.784476Z"
        },
        "trusted": true,
        "id": "gieJL4TlB-rp"
      },
      "execution_count": null,
      "outputs": []
    },
    {
      "cell_type": "code",
      "source": [
        "y = df['ddg'].to_numpy()\n",
        "X = XXX\n",
        "\n",
        "xgb_r_v3 = xg.XGBRegressor(booster=\"gblinear\", objective ='reg:linear',learning_rate=0.001, n_estimators=150, seed = 123)\n",
        "\n",
        "xgb_r_v3.fit(X, y)"
      ],
      "metadata": {
        "execution": {
          "iopub.status.busy": "2023-05-14T10:29:43.988843Z",
          "iopub.execute_input": "2023-05-14T10:29:43.989412Z",
          "iopub.status.idle": "2023-05-14T10:35:02.445436Z",
          "shell.execute_reply.started": "2023-05-14T10:29:43.989356Z",
          "shell.execute_reply": "2023-05-14T10:35:02.444077Z"
        },
        "trusted": true,
        "id": "FXIJTJjzB-rq",
        "outputId": "60f693d1-9fe1-4b23-b05b-58338977bff4"
      },
      "execution_count": null,
      "outputs": [
        {
          "name": "stdout",
          "text": "[10:29:52] WARNING: ../src/objective/regression_obj.cu:213: reg:linear is now deprecated in favor of reg:squarederror.\n",
          "output_type": "stream"
        },
        {
          "execution_count": 26,
          "output_type": "execute_result",
          "data": {
            "text/plain": "XGBRegressor(base_score=None, booster='gblinear', callbacks=None,\n             colsample_bylevel=None, colsample_bynode=None,\n             colsample_bytree=None, early_stopping_rounds=None,\n             enable_categorical=False, eval_metric=None, feature_types=None,\n             gamma=None, gpu_id=None, grow_policy=None, importance_type=None,\n             interaction_constraints=None, learning_rate=0.001, max_bin=None,\n             max_cat_threshold=None, max_cat_to_onehot=None,\n             max_delta_step=None, max_depth=None, max_leaves=None,\n             min_child_weight=None, missing=nan, monotone_constraints=None,\n             n_estimators=150, n_jobs=None, num_parallel_tree=None,\n             objective='reg:linear', predictor=None, ...)",
            "text/html": "<style>#sk-container-id-4 {color: black;background-color: white;}#sk-container-id-4 pre{padding: 0;}#sk-container-id-4 div.sk-toggleable {background-color: white;}#sk-container-id-4 label.sk-toggleable__label {cursor: pointer;display: block;width: 100%;margin-bottom: 0;padding: 0.3em;box-sizing: border-box;text-align: center;}#sk-container-id-4 label.sk-toggleable__label-arrow:before {content: \"▸\";float: left;margin-right: 0.25em;color: #696969;}#sk-container-id-4 label.sk-toggleable__label-arrow:hover:before {color: black;}#sk-container-id-4 div.sk-estimator:hover label.sk-toggleable__label-arrow:before {color: black;}#sk-container-id-4 div.sk-toggleable__content {max-height: 0;max-width: 0;overflow: hidden;text-align: left;background-color: #f0f8ff;}#sk-container-id-4 div.sk-toggleable__content pre {margin: 0.2em;color: black;border-radius: 0.25em;background-color: #f0f8ff;}#sk-container-id-4 input.sk-toggleable__control:checked~div.sk-toggleable__content {max-height: 200px;max-width: 100%;overflow: auto;}#sk-container-id-4 input.sk-toggleable__control:checked~label.sk-toggleable__label-arrow:before {content: \"▾\";}#sk-container-id-4 div.sk-estimator input.sk-toggleable__control:checked~label.sk-toggleable__label {background-color: #d4ebff;}#sk-container-id-4 div.sk-label input.sk-toggleable__control:checked~label.sk-toggleable__label {background-color: #d4ebff;}#sk-container-id-4 input.sk-hidden--visually {border: 0;clip: rect(1px 1px 1px 1px);clip: rect(1px, 1px, 1px, 1px);height: 1px;margin: -1px;overflow: hidden;padding: 0;position: absolute;width: 1px;}#sk-container-id-4 div.sk-estimator {font-family: monospace;background-color: #f0f8ff;border: 1px dotted black;border-radius: 0.25em;box-sizing: border-box;margin-bottom: 0.5em;}#sk-container-id-4 div.sk-estimator:hover {background-color: #d4ebff;}#sk-container-id-4 div.sk-parallel-item::after {content: \"\";width: 100%;border-bottom: 1px solid gray;flex-grow: 1;}#sk-container-id-4 div.sk-label:hover label.sk-toggleable__label {background-color: #d4ebff;}#sk-container-id-4 div.sk-serial::before {content: \"\";position: absolute;border-left: 1px solid gray;box-sizing: border-box;top: 0;bottom: 0;left: 50%;z-index: 0;}#sk-container-id-4 div.sk-serial {display: flex;flex-direction: column;align-items: center;background-color: white;padding-right: 0.2em;padding-left: 0.2em;position: relative;}#sk-container-id-4 div.sk-item {position: relative;z-index: 1;}#sk-container-id-4 div.sk-parallel {display: flex;align-items: stretch;justify-content: center;background-color: white;position: relative;}#sk-container-id-4 div.sk-item::before, #sk-container-id-4 div.sk-parallel-item::before {content: \"\";position: absolute;border-left: 1px solid gray;box-sizing: border-box;top: 0;bottom: 0;left: 50%;z-index: -1;}#sk-container-id-4 div.sk-parallel-item {display: flex;flex-direction: column;z-index: 1;position: relative;background-color: white;}#sk-container-id-4 div.sk-parallel-item:first-child::after {align-self: flex-end;width: 50%;}#sk-container-id-4 div.sk-parallel-item:last-child::after {align-self: flex-start;width: 50%;}#sk-container-id-4 div.sk-parallel-item:only-child::after {width: 0;}#sk-container-id-4 div.sk-dashed-wrapped {border: 1px dashed gray;margin: 0 0.4em 0.5em 0.4em;box-sizing: border-box;padding-bottom: 0.4em;background-color: white;}#sk-container-id-4 div.sk-label label {font-family: monospace;font-weight: bold;display: inline-block;line-height: 1.2em;}#sk-container-id-4 div.sk-label-container {text-align: center;}#sk-container-id-4 div.sk-container {/* jupyter's `normalize.less` sets `[hidden] { display: none; }` but bootstrap.min.css set `[hidden] { display: none !important; }` so we also need the `!important` here to be able to override the default hidden behavior on the sphinx rendered scikit-learn.org. See: https://github.com/scikit-learn/scikit-learn/issues/21755 */display: inline-block !important;position: relative;}#sk-container-id-4 div.sk-text-repr-fallback {display: none;}</style><div id=\"sk-container-id-4\" class=\"sk-top-container\"><div class=\"sk-text-repr-fallback\"><pre>XGBRegressor(base_score=None, booster=&#x27;gblinear&#x27;, callbacks=None,\n             colsample_bylevel=None, colsample_bynode=None,\n             colsample_bytree=None, early_stopping_rounds=None,\n             enable_categorical=False, eval_metric=None, feature_types=None,\n             gamma=None, gpu_id=None, grow_policy=None, importance_type=None,\n             interaction_constraints=None, learning_rate=0.001, max_bin=None,\n             max_cat_threshold=None, max_cat_to_onehot=None,\n             max_delta_step=None, max_depth=None, max_leaves=None,\n             min_child_weight=None, missing=nan, monotone_constraints=None,\n             n_estimators=150, n_jobs=None, num_parallel_tree=None,\n             objective=&#x27;reg:linear&#x27;, predictor=None, ...)</pre><b>In a Jupyter environment, please rerun this cell to show the HTML representation or trust the notebook. <br />On GitHub, the HTML representation is unable to render, please try loading this page with nbviewer.org.</b></div><div class=\"sk-container\" hidden><div class=\"sk-item\"><div class=\"sk-estimator sk-toggleable\"><input class=\"sk-toggleable__control sk-hidden--visually\" id=\"sk-estimator-id-4\" type=\"checkbox\" checked><label for=\"sk-estimator-id-4\" class=\"sk-toggleable__label sk-toggleable__label-arrow\">XGBRegressor</label><div class=\"sk-toggleable__content\"><pre>XGBRegressor(base_score=None, booster=&#x27;gblinear&#x27;, callbacks=None,\n             colsample_bylevel=None, colsample_bynode=None,\n             colsample_bytree=None, early_stopping_rounds=None,\n             enable_categorical=False, eval_metric=None, feature_types=None,\n             gamma=None, gpu_id=None, grow_policy=None, importance_type=None,\n             interaction_constraints=None, learning_rate=0.001, max_bin=None,\n             max_cat_threshold=None, max_cat_to_onehot=None,\n             max_delta_step=None, max_depth=None, max_leaves=None,\n             min_child_weight=None, missing=nan, monotone_constraints=None,\n             n_estimators=150, n_jobs=None, num_parallel_tree=None,\n             objective=&#x27;reg:linear&#x27;, predictor=None, ...)</pre></div></div></div></div></div>"
          },
          "metadata": {}
        }
      ]
    },
    {
      "cell_type": "code",
      "source": [
        "import pickle\n",
        "pickle.dump(xgb_r_5, open('xgb_v1.sav', 'wb'))"
      ],
      "metadata": {
        "execution": {
          "iopub.status.busy": "2023-05-14T09:05:34.391410Z",
          "iopub.execute_input": "2023-05-14T09:05:34.391938Z",
          "iopub.status.idle": "2023-05-14T09:05:34.398240Z",
          "shell.execute_reply.started": "2023-05-14T09:05:34.391893Z",
          "shell.execute_reply": "2023-05-14T09:05:34.396985Z"
        },
        "trusted": true,
        "id": "f0SWexrxB-rq"
      },
      "execution_count": null,
      "outputs": []
    },
    {
      "cell_type": "code",
      "source": [
        "pred=xgb_r_v3.predict(XXX_t)"
      ],
      "metadata": {
        "execution": {
          "iopub.status.busy": "2023-05-14T10:35:24.298881Z",
          "iopub.execute_input": "2023-05-14T10:35:24.299359Z",
          "iopub.status.idle": "2023-05-14T10:35:24.348414Z",
          "shell.execute_reply.started": "2023-05-14T10:35:24.299320Z",
          "shell.execute_reply": "2023-05-14T10:35:24.347131Z"
        },
        "trusted": true,
        "id": "vLpPtwKpB-rq"
      },
      "execution_count": null,
      "outputs": []
    },
    {
      "cell_type": "code",
      "source": [
        "result=pd.DataFrame({\"ID\":df_t[\"ID\"].to_numpy(),\"ddg\":pred})\n",
        "result.to_csv(\"sub8.csv\", index=False)"
      ],
      "metadata": {
        "execution": {
          "iopub.status.busy": "2023-05-14T10:35:34.110409Z",
          "iopub.execute_input": "2023-05-14T10:35:34.111166Z",
          "iopub.status.idle": "2023-05-14T10:35:34.127148Z",
          "shell.execute_reply.started": "2023-05-14T10:35:34.111125Z",
          "shell.execute_reply": "2023-05-14T10:35:34.125497Z"
        },
        "trusted": true,
        "id": "PBckxuMZB-rq"
      },
      "execution_count": null,
      "outputs": []
    },
    {
      "cell_type": "code",
      "source": [],
      "metadata": {
        "id": "lEjJsl28B-rs"
      },
      "execution_count": null,
      "outputs": []
    }
  ]
}